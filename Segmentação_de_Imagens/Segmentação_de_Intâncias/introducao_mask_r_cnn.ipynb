{
 "cells": [
  {
   "cell_type": "markdown",
   "metadata": {},
   "source": [
    "### Configuração do ambiente\n",
    "\n",
    "Para esta atividade de introdução, iremos utilizar um **modelo R-CNN pré-treinado**.\n",
    "\n",
    "Iremos clonar o repositório do Mask_RCNN para TensorFlow 2 do Github.\n",
    "\n",
    "[Github](https://github.com/matterport/Mask_RCNN.git)\n",
    "\n",
    "Descomentar essa sessão na primeira vez que rodar o código para configurar o ambiente."
   ]
  },
  {
   "cell_type": "code",
   "execution_count": 106,
   "metadata": {},
   "outputs": [],
   "source": [
    "#!git clone https://github.com/alsombra/Mask_RCNN-TF2"
   ]
  },
  {
   "cell_type": "markdown",
   "metadata": {},
   "source": [
    "Precisaremos de executar o arquivo **setup.py** dentro do repositório Mask_RCNN-TF2 para realizar a instalação da Mask R-CNN.\n",
    "\n",
    "Precisaremos chegar até o diretório via código e executar este arquivo.\n",
    "\n",
    "O caracter % (percentagem) indica que o comando a seguir é em linux. Necessário para não dar warnings (avisos) no código."
   ]
  },
  {
   "cell_type": "code",
   "execution_count": 107,
   "metadata": {},
   "outputs": [],
   "source": [
    "# Comando linux que indica o diretório atual que estamos\n",
    "#%pwd"
   ]
  },
  {
   "cell_type": "code",
   "execution_count": 108,
   "metadata": {},
   "outputs": [],
   "source": [
    "#%cd Mask_RCNN-TF2/"
   ]
  },
  {
   "cell_type": "code",
   "execution_count": 109,
   "metadata": {},
   "outputs": [],
   "source": [
    "# Agora estamos no diretório Mask_RCNN_TF2\n",
    "#%pwd"
   ]
  },
  {
   "cell_type": "code",
   "execution_count": 110,
   "metadata": {},
   "outputs": [],
   "source": [
    "#!pip install -r requirements.txt"
   ]
  },
  {
   "cell_type": "code",
   "execution_count": 111,
   "metadata": {},
   "outputs": [],
   "source": [
    "#!python setup.py install"
   ]
  },
  {
   "cell_type": "markdown",
   "metadata": {},
   "source": [
    "Retornando para o diretório raiz do projeto"
   ]
  },
  {
   "cell_type": "code",
   "execution_count": 112,
   "metadata": {},
   "outputs": [],
   "source": [
    "#%cd .."
   ]
  },
  {
   "cell_type": "markdown",
   "metadata": {},
   "source": [
    "### Importação das bibliotecas"
   ]
  },
  {
   "cell_type": "code",
   "execution_count": 113,
   "metadata": {},
   "outputs": [],
   "source": [
    "import os\n",
    "import sys\n",
    "import random\n",
    "import math\n",
    "import cv2\n",
    "import numpy as np\n",
    "import skimage.io\n",
    "import matplotlib.pyplot as plt\n",
    "import keras"
   ]
  },
  {
   "cell_type": "code",
   "execution_count": 114,
   "metadata": {},
   "outputs": [
    {
     "data": {
      "text/plain": [
       "'c:\\\\Users\\\\DIOGO-PC\\\\Desktop\\\\Estudos\\\\Computer_Vision_Learn\\\\Segmentação_de_Imagens\\\\Segmentação_de_Intâncias\\\\Mask_RCNN-TF2'"
      ]
     },
     "execution_count": 114,
     "metadata": {},
     "output_type": "execute_result"
    }
   ],
   "source": [
    "# Armazenar o diretório raiz da onde se encontra o repositório\n",
    "ROOT_DIR = os.path.abspath('./Mask_RCNN-TF2') # Concatenando o diretório atual com o Mask RCNN\n",
    "ROOT_DIR"
   ]
  },
  {
   "cell_type": "code",
   "execution_count": 115,
   "metadata": {},
   "outputs": [
    {
     "data": {
      "text/plain": [
       "['c:\\\\Users\\\\DIOGO-PC\\\\AppData\\\\Local\\\\Programs\\\\Python\\\\Python310\\\\python310.zip',\n",
       " 'c:\\\\Users\\\\DIOGO-PC\\\\AppData\\\\Local\\\\Programs\\\\Python\\\\Python310\\\\DLLs',\n",
       " 'c:\\\\Users\\\\DIOGO-PC\\\\AppData\\\\Local\\\\Programs\\\\Python\\\\Python310\\\\lib',\n",
       " 'c:\\\\Users\\\\DIOGO-PC\\\\AppData\\\\Local\\\\Programs\\\\Python\\\\Python310',\n",
       " '',\n",
       " 'c:\\\\Users\\\\DIOGO-PC\\\\AppData\\\\Local\\\\Programs\\\\Python\\\\Python310\\\\lib\\\\site-packages',\n",
       " 'c:\\\\Users\\\\DIOGO-PC\\\\AppData\\\\Local\\\\Programs\\\\Python\\\\Python310\\\\lib\\\\site-packages\\\\mask_rcnn-2.1-py3.10.egg',\n",
       " 'c:\\\\Users\\\\DIOGO-PC\\\\AppData\\\\Local\\\\Programs\\\\Python\\\\Python310\\\\lib\\\\site-packages\\\\win32',\n",
       " 'c:\\\\Users\\\\DIOGO-PC\\\\AppData\\\\Local\\\\Programs\\\\Python\\\\Python310\\\\lib\\\\site-packages\\\\win32\\\\lib',\n",
       " 'c:\\\\Users\\\\DIOGO-PC\\\\AppData\\\\Local\\\\Programs\\\\Python\\\\Python310\\\\lib\\\\site-packages\\\\Pythonwin',\n",
       " 'c:\\\\Users\\\\DIOGO-PC\\\\AppData\\\\Local\\\\Programs\\\\Python\\\\Python310\\\\lib\\\\site-packages\\\\setuptools\\\\_vendor',\n",
       " 'c:\\\\Users\\\\DIOGO-PC\\\\Desktop\\\\Estudos\\\\Computer_Vision_Learn\\\\Segmentação_de_Imagens\\\\Segmentação_de_Intâncias\\\\Mask_RCNN-TF2',\n",
       " 'c:\\\\Users\\\\DIOGO-PC\\\\Desktop\\\\Estudos\\\\Computer_Vision_Learn\\\\Segmentação_de_Imagens',\n",
       " 'c:\\\\Users\\\\DIOGO-PC\\\\Desktop\\\\Estudos\\\\Computer_Vision_Learn\\\\Segmentação_de_Imagens\\\\Segmentação_de_Intâncias\\\\Mask_RCNN-TF2\\\\samples\\\\coco',\n",
       " 'c:\\\\Users\\\\DIOGO-PC\\\\Desktop\\\\Estudos\\\\Computer_Vision_Learn']"
      ]
     },
     "execution_count": 115,
     "metadata": {},
     "output_type": "execute_result"
    }
   ],
   "source": [
    "path_exists = False\n",
    "\n",
    "for i in sys.path:\n",
    "    if i == ROOT_DIR:\n",
    "        path_exists = True\n",
    "        break\n",
    "\n",
    "# Adicionando o caminho para o repositório do Mask R-CNN caso o path não exista\n",
    "if not path_exists:\n",
    "    sys.path.append(ROOT_DIR)\n",
    "\n",
    "sys.path"
   ]
  },
  {
   "cell_type": "markdown",
   "metadata": {},
   "source": [
    "Como adicionamos o caminho do repositório no path, conseguimos realizar a importação de alguns arquivos que estão dentro do repositório e que iremos utilizar."
   ]
  },
  {
   "cell_type": "code",
   "execution_count": 116,
   "metadata": {},
   "outputs": [],
   "source": [
    "from mrcnn import utils\n",
    "from mrcnn import visualize\n",
    "import mrcnn.model as modellib"
   ]
  },
  {
   "cell_type": "markdown",
   "metadata": {},
   "source": [
    "Iremos adicionar outro path, no caso, dos exemplos (samples)"
   ]
  },
  {
   "cell_type": "code",
   "execution_count": 117,
   "metadata": {},
   "outputs": [
    {
     "data": {
      "text/plain": [
       "['c:\\\\Users\\\\DIOGO-PC\\\\AppData\\\\Local\\\\Programs\\\\Python\\\\Python310\\\\python310.zip',\n",
       " 'c:\\\\Users\\\\DIOGO-PC\\\\AppData\\\\Local\\\\Programs\\\\Python\\\\Python310\\\\DLLs',\n",
       " 'c:\\\\Users\\\\DIOGO-PC\\\\AppData\\\\Local\\\\Programs\\\\Python\\\\Python310\\\\lib',\n",
       " 'c:\\\\Users\\\\DIOGO-PC\\\\AppData\\\\Local\\\\Programs\\\\Python\\\\Python310',\n",
       " '',\n",
       " 'c:\\\\Users\\\\DIOGO-PC\\\\AppData\\\\Local\\\\Programs\\\\Python\\\\Python310\\\\lib\\\\site-packages',\n",
       " 'c:\\\\Users\\\\DIOGO-PC\\\\AppData\\\\Local\\\\Programs\\\\Python\\\\Python310\\\\lib\\\\site-packages\\\\mask_rcnn-2.1-py3.10.egg',\n",
       " 'c:\\\\Users\\\\DIOGO-PC\\\\AppData\\\\Local\\\\Programs\\\\Python\\\\Python310\\\\lib\\\\site-packages\\\\win32',\n",
       " 'c:\\\\Users\\\\DIOGO-PC\\\\AppData\\\\Local\\\\Programs\\\\Python\\\\Python310\\\\lib\\\\site-packages\\\\win32\\\\lib',\n",
       " 'c:\\\\Users\\\\DIOGO-PC\\\\AppData\\\\Local\\\\Programs\\\\Python\\\\Python310\\\\lib\\\\site-packages\\\\Pythonwin',\n",
       " 'c:\\\\Users\\\\DIOGO-PC\\\\AppData\\\\Local\\\\Programs\\\\Python\\\\Python310\\\\lib\\\\site-packages\\\\setuptools\\\\_vendor',\n",
       " 'c:\\\\Users\\\\DIOGO-PC\\\\Desktop\\\\Estudos\\\\Computer_Vision_Learn\\\\Segmentação_de_Imagens\\\\Segmentação_de_Intâncias\\\\Mask_RCNN-TF2',\n",
       " 'c:\\\\Users\\\\DIOGO-PC\\\\Desktop\\\\Estudos\\\\Computer_Vision_Learn\\\\Segmentação_de_Imagens',\n",
       " 'c:\\\\Users\\\\DIOGO-PC\\\\Desktop\\\\Estudos\\\\Computer_Vision_Learn\\\\Segmentação_de_Imagens\\\\Segmentação_de_Intâncias\\\\Mask_RCNN-TF2\\\\samples\\\\coco',\n",
       " 'c:\\\\Users\\\\DIOGO-PC\\\\Desktop\\\\Estudos\\\\Computer_Vision_Learn']"
      ]
     },
     "execution_count": 117,
     "metadata": {},
     "output_type": "execute_result"
    }
   ],
   "source": [
    "ROOT_DIR_COCO_SAMPLES = os.path.abspath('./Mask_RCNN-TF2/samples/coco/')\n",
    "\n",
    "path_coco_samples_exists = False\n",
    "\n",
    "for i in sys.path:\n",
    "    if i == ROOT_DIR_COCO_SAMPLES:\n",
    "        path_coco_samples_exists = True\n",
    "        break\n",
    "\n",
    "\n",
    "# Adicionando o caminho para os exemplos caso não exista\n",
    "if not path_coco_samples_exists:\n",
    "    sys.path.append(ROOT_DIR_COCO_SAMPLES)\n",
    "\n",
    "sys.path"
   ]
  },
  {
   "cell_type": "markdown",
   "metadata": {},
   "source": [
    "Instalação do pycocotools para importação do coco."
   ]
  },
  {
   "cell_type": "code",
   "execution_count": 118,
   "metadata": {},
   "outputs": [],
   "source": [
    "#!pip install pycocotools"
   ]
  },
  {
   "cell_type": "code",
   "execution_count": 119,
   "metadata": {},
   "outputs": [],
   "source": [
    "# Caso o path for adicionado corretamente, não dará erros na importação\n",
    "import coco"
   ]
  },
  {
   "cell_type": "code",
   "execution_count": 120,
   "metadata": {},
   "outputs": [
    {
     "name": "stdout",
     "output_type": "stream",
     "text": [
      "c:\\Users\\DIOGO-PC\\Desktop\\Estudos\\Computer_Vision_Learn\\Segmentação_de_Imagens\\Segmentação_de_Intâncias\\Mask_RCNN-TF2\\logs\n",
      "c:\\Users\\DIOGO-PC\\Desktop\\Estudos\\Computer_Vision_Learn\\Segmentação_de_Imagens\\Segmentação_de_Intâncias\\Mask_RCNN-TF2\\images\n"
     ]
    }
   ],
   "source": [
    "MODEL_DIR = os.path.join(ROOT_DIR, 'logs') # Este diretório só existirá após a rede neural estiver em funcionamento\n",
    "IMAGE_DIR = os.path.join(ROOT_DIR, 'images') # Contém várias imagens de teste para utilizarmos\n",
    "\n",
    "print(MODEL_DIR)\n",
    "print(IMAGE_DIR)"
   ]
  }
 ],
 "metadata": {
  "kernelspec": {
   "display_name": "Python 3",
   "language": "python",
   "name": "python3"
  },
  "language_info": {
   "codemirror_mode": {
    "name": "ipython",
    "version": 3
   },
   "file_extension": ".py",
   "mimetype": "text/x-python",
   "name": "python",
   "nbconvert_exporter": "python",
   "pygments_lexer": "ipython3",
   "version": "3.10.10"
  }
 },
 "nbformat": 4,
 "nbformat_minor": 2
}
