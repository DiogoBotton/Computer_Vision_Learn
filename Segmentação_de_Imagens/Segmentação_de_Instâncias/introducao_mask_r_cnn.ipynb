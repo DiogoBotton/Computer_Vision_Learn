{
 "cells": [
  {
   "cell_type": "markdown",
   "metadata": {},
   "source": [
    "### Configuração do ambiente\n",
    "\n",
    "Para esta atividade de introdução, iremos utilizar um **modelo R-CNN pré-treinado**.\n",
    "\n",
    "Iremos clonar o repositório do Mask_RCNN para TensorFlow 2 do Github.\n",
    "\n",
    "[Github](https://github.com/alsombra/Mask_RCNN-TF2)\n",
    "\n",
    "Descomentar essa sessão na primeira vez que rodar o código para configurar o ambiente."
   ]
  },
  {
   "cell_type": "code",
   "execution_count": 1,
   "metadata": {},
   "outputs": [
    {
     "name": "stderr",
     "output_type": "stream",
     "text": [
      "Cloning into 'Mask_RCNN-TF2'...\n"
     ]
    }
   ],
   "source": [
    "#!git clone https://github.com/alsombra/Mask_RCNN-TF2"
   ]
  },
  {
   "cell_type": "markdown",
   "metadata": {},
   "source": [
    "Precisaremos de executar o arquivo **setup.py** dentro do repositório Mask_RCNN-TF2 para realizar a instalação da Mask R-CNN.\n",
    "\n",
    "Precisaremos chegar até o diretório via código e executar este arquivo.\n",
    "\n",
    "O caracter % (percentagem) indica que o comando a seguir é em linux. Necessário para não dar warnings (avisos) no código."
   ]
  },
  {
   "cell_type": "code",
   "execution_count": 2,
   "metadata": {},
   "outputs": [
    {
     "data": {
      "text/plain": [
       "'c:\\\\Users\\\\DIOGO-PC\\\\Desktop\\\\Estudos\\\\Computer_Vision_Learn\\\\Segmentação_de_Imagens\\\\Segmentação_de_Instâncias'"
      ]
     },
     "execution_count": 2,
     "metadata": {},
     "output_type": "execute_result"
    }
   ],
   "source": [
    "# Comando linux que indica o diretório atual que estamos\n",
    "#%pwd"
   ]
  },
  {
   "cell_type": "code",
   "execution_count": 3,
   "metadata": {},
   "outputs": [
    {
     "name": "stdout",
     "output_type": "stream",
     "text": [
      "c:\\Users\\DIOGO-PC\\Desktop\\Estudos\\Computer_Vision_Learn\\Segmentação_de_Imagens\\Segmentação_de_Instâncias\\Mask_RCNN-TF2\n"
     ]
    }
   ],
   "source": [
    "#%cd Mask_RCNN-TF2/"
   ]
  },
  {
   "cell_type": "code",
   "execution_count": 4,
   "metadata": {},
   "outputs": [
    {
     "data": {
      "text/plain": [
       "'c:\\\\Users\\\\DIOGO-PC\\\\Desktop\\\\Estudos\\\\Computer_Vision_Learn\\\\Segmentação_de_Imagens\\\\Segmentação_de_Instâncias\\\\Mask_RCNN-TF2'"
      ]
     },
     "execution_count": 4,
     "metadata": {},
     "output_type": "execute_result"
    }
   ],
   "source": [
    "# Agora estamos no diretório Mask_RCNN_TF2\n",
    "#%pwd"
   ]
  },
  {
   "cell_type": "code",
   "execution_count": 5,
   "metadata": {},
   "outputs": [],
   "source": [
    "#!pip install -r requirements.txt"
   ]
  },
  {
   "cell_type": "code",
   "execution_count": 6,
   "metadata": {},
   "outputs": [
    {
     "name": "stderr",
     "output_type": "stream",
     "text": [
      "c:\\Users\\DIOGO-PC\\Desktop\\Estudos\\Computer_Vision_Learn\\Segmentação_de_Imagens\\Segmentação_de_Instâncias\\Mask_RCNN-TF2\\setup.py:9: DeprecationWarning: pkg_resources is deprecated as an API. See https://setuptools.pypa.io/en/latest/pkg_resources.html\n",
      "  import pkg_resources\n",
      "WARNING:root:Fail load requirements file, so using default ones.\n",
      "c:\\Users\\DIOGO-PC\\AppData\\Local\\Programs\\Python\\Python310\\lib\\site-packages\\setuptools\\dist.py:488: SetuptoolsDeprecationWarning: Invalid dash-separated options\n",
      "!!\n",
      "\n",
      "        ********************************************************************************\n",
      "        Usage of dash-separated 'description-file' will not be supported in future\n",
      "        versions. Please use the underscore name 'description_file' instead.\n",
      "\n",
      "        By 2025-Mar-03, you need to update your project and remove deprecated calls\n",
      "        or your builds will no longer be supported.\n",
      "\n",
      "        See https://setuptools.pypa.io/en/latest/userguide/declarative_config.html for details.\n",
      "        ********************************************************************************\n",
      "\n",
      "!!\n",
      "  opt = self.warn_dash_deprecation(opt, section)\n",
      "c:\\Users\\DIOGO-PC\\AppData\\Local\\Programs\\Python\\Python310\\lib\\site-packages\\setuptools\\dist.py:488: SetuptoolsDeprecationWarning: Invalid dash-separated options\n",
      "!!\n",
      "\n",
      "        ********************************************************************************\n",
      "        Usage of dash-separated 'license-file' will not be supported in future\n",
      "        versions. Please use the underscore name 'license_file' instead.\n",
      "\n",
      "        By 2025-Mar-03, you need to update your project and remove deprecated calls\n",
      "        or your builds will no longer be supported.\n",
      "\n",
      "        See https://setuptools.pypa.io/en/latest/userguide/declarative_config.html for details.\n",
      "        ********************************************************************************\n",
      "\n",
      "!!\n",
      "  opt = self.warn_dash_deprecation(opt, section)\n",
      "c:\\Users\\DIOGO-PC\\AppData\\Local\\Programs\\Python\\Python310\\lib\\site-packages\\setuptools\\dist.py:488: SetuptoolsDeprecationWarning: Invalid dash-separated options\n",
      "!!\n",
      "\n",
      "        ********************************************************************************\n",
      "        Usage of dash-separated 'requirements-file' will not be supported in future\n",
      "        versions. Please use the underscore name 'requirements_file' instead.\n",
      "\n",
      "        By 2025-Mar-03, you need to update your project and remove deprecated calls\n",
      "        or your builds will no longer be supported.\n",
      "\n",
      "        See https://setuptools.pypa.io/en/latest/userguide/declarative_config.html for details.\n",
      "        ********************************************************************************\n",
      "\n",
      "!!\n",
      "  opt = self.warn_dash_deprecation(opt, section)\n",
      "c:\\Users\\DIOGO-PC\\AppData\\Local\\Programs\\Python\\Python310\\lib\\site-packages\\setuptools\\dist.py:488: SetuptoolsDeprecationWarning: Invalid dash-separated options\n",
      "!!\n",
      "\n",
      "        ********************************************************************************\n",
      "        Usage of dash-separated 'description-file' will not be supported in future\n",
      "        versions. Please use the underscore name 'description_file' instead.\n",
      "\n",
      "        By 2025-Mar-03, you need to update your project and remove deprecated calls\n",
      "        or your builds will no longer be supported.\n",
      "\n",
      "        See https://setuptools.pypa.io/en/latest/userguide/declarative_config.html for details.\n",
      "        ********************************************************************************\n",
      "\n",
      "!!\n",
      "  opt = self.warn_dash_deprecation(opt, section)\n",
      "c:\\Users\\DIOGO-PC\\AppData\\Local\\Programs\\Python\\Python310\\lib\\site-packages\\setuptools\\dist.py:488: SetuptoolsDeprecationWarning: Invalid dash-separated options\n",
      "!!\n",
      "\n",
      "        ********************************************************************************\n",
      "        Usage of dash-separated 'license-file' will not be supported in future\n",
      "        versions. Please use the underscore name 'license_file' instead.\n",
      "\n",
      "        By 2025-Mar-03, you need to update your project and remove deprecated calls\n",
      "        or your builds will no longer be supported.\n",
      "\n",
      "        See https://setuptools.pypa.io/en/latest/userguide/declarative_config.html for details.\n",
      "        ********************************************************************************\n",
      "\n",
      "!!\n",
      "  opt = self.warn_dash_deprecation(opt, section)\n",
      "c:\\Users\\DIOGO-PC\\AppData\\Local\\Programs\\Python\\Python310\\lib\\site-packages\\setuptools\\dist.py:488: SetuptoolsDeprecationWarning: Invalid dash-separated options\n",
      "!!\n",
      "\n",
      "        ********************************************************************************\n",
      "        Usage of dash-separated 'requirements-file' will not be supported in future\n",
      "        versions. Please use the underscore name 'requirements_file' instead.\n",
      "\n",
      "        By 2025-Mar-03, you need to update your project and remove deprecated calls\n",
      "        or your builds will no longer be supported.\n",
      "\n",
      "        See https://setuptools.pypa.io/en/latest/userguide/declarative_config.html for details.\n",
      "        ********************************************************************************\n",
      "\n",
      "!!\n",
      "  opt = self.warn_dash_deprecation(opt, section)\n",
      "INFO:root:running install\n",
      "c:\\Users\\DIOGO-PC\\AppData\\Local\\Programs\\Python\\Python310\\lib\\site-packages\\setuptools\\_distutils\\cmd.py:66: SetuptoolsDeprecationWarning: setup.py install is deprecated.\n",
      "!!\n",
      "\n",
      "        ********************************************************************************\n",
      "        Please avoid running ``setup.py`` directly.\n",
      "        Instead, use pypa/build, pypa/installer or other\n",
      "        standards-based tools.\n",
      "\n",
      "        See https://blog.ganssle.io/articles/2021/10/setup-py-deprecated.html for details.\n",
      "        ********************************************************************************\n",
      "\n",
      "!!\n",
      "  self.initialize_options()\n",
      "c:\\Users\\DIOGO-PC\\AppData\\Local\\Programs\\Python\\Python310\\lib\\site-packages\\setuptools\\_distutils\\cmd.py:66: EasyInstallDeprecationWarning: easy_install command is deprecated.\n",
      "!!\n",
      "\n",
      "        ********************************************************************************\n",
      "        Please avoid running ``setup.py`` and ``easy_install``.\n",
      "        Instead, use pypa/build, pypa/installer or other\n",
      "        standards-based tools.\n",
      "\n",
      "        See https://github.com/pypa/setuptools/issues/917 for details.\n",
      "        ********************************************************************************\n",
      "\n",
      "!!\n",
      "  self.initialize_options()\n",
      "INFO:root:running bdist_egg\n",
      "INFO:root:running egg_info\n",
      "INFO:root:creating mask_rcnn.egg-info\n",
      "INFO:root:writing mask_rcnn.egg-info\\PKG-INFO\n",
      "INFO:root:writing dependency_links to mask_rcnn.egg-info\\dependency_links.txt\n",
      "INFO:root:writing top-level names to mask_rcnn.egg-info\\top_level.txt\n",
      "INFO:root:writing manifest file 'mask_rcnn.egg-info\\SOURCES.txt'\n",
      "INFO:root:reading manifest file 'mask_rcnn.egg-info\\SOURCES.txt'\n",
      "INFO:root:reading manifest template 'MANIFEST.in'\n",
      "INFO:root:adding license file 'LICENSE'\n",
      "INFO:root:writing manifest file 'mask_rcnn.egg-info\\SOURCES.txt'\n",
      "INFO:root:installing library code to build\\bdist.win-amd64\\egg\n",
      "INFO:root:running install_lib\n",
      "INFO:root:running build_py\n",
      "INFO:root:creating build\\lib\\mrcnn\n",
      "INFO:root:copying mrcnn\\config.py -> build\\lib\\mrcnn\n",
      "INFO:root:copying mrcnn\\model.py -> build\\lib\\mrcnn\n",
      "INFO:root:copying mrcnn\\parallel_model.py -> build\\lib\\mrcnn\n",
      "INFO:root:copying mrcnn\\utils.py -> build\\lib\\mrcnn\n",
      "INFO:root:copying mrcnn\\visualize.py -> build\\lib\\mrcnn\n",
      "INFO:root:copying mrcnn\\__init__.py -> build\\lib\\mrcnn\n",
      "INFO:root:creating build\\bdist.win-amd64\\egg\n",
      "INFO:root:creating build\\bdist.win-amd64\\egg\\mrcnn\n",
      "INFO:root:copying build\\lib\\mrcnn\\config.py -> build\\bdist.win-amd64\\egg\\mrcnn\n",
      "INFO:root:copying build\\lib\\mrcnn\\model.py -> build\\bdist.win-amd64\\egg\\mrcnn\n",
      "INFO:root:copying build\\lib\\mrcnn\\parallel_model.py -> build\\bdist.win-amd64\\egg\\mrcnn\n",
      "INFO:root:copying build\\lib\\mrcnn\\utils.py -> build\\bdist.win-amd64\\egg\\mrcnn\n",
      "INFO:root:copying build\\lib\\mrcnn\\visualize.py -> build\\bdist.win-amd64\\egg\\mrcnn\n",
      "INFO:root:copying build\\lib\\mrcnn\\__init__.py -> build\\bdist.win-amd64\\egg\\mrcnn\n",
      "INFO:root:byte-compiling build\\bdist.win-amd64\\egg\\mrcnn\\config.py to config.cpython-310.pyc\n",
      "INFO:root:byte-compiling build\\bdist.win-amd64\\egg\\mrcnn\\model.py to model.cpython-310.pyc\n",
      "INFO:root:byte-compiling build\\bdist.win-amd64\\egg\\mrcnn\\parallel_model.py to parallel_model.cpython-310.pyc\n",
      "INFO:root:byte-compiling build\\bdist.win-amd64\\egg\\mrcnn\\utils.py to utils.cpython-310.pyc\n",
      "INFO:root:byte-compiling build\\bdist.win-amd64\\egg\\mrcnn\\visualize.py to visualize.cpython-310.pyc\n",
      "INFO:root:byte-compiling build\\bdist.win-amd64\\egg\\mrcnn\\__init__.py to __init__.cpython-310.pyc\n",
      "INFO:root:creating build\\bdist.win-amd64\\egg\\EGG-INFO\n",
      "INFO:root:copying mask_rcnn.egg-info\\PKG-INFO -> build\\bdist.win-amd64\\egg\\EGG-INFO\n",
      "INFO:root:copying mask_rcnn.egg-info\\SOURCES.txt -> build\\bdist.win-amd64\\egg\\EGG-INFO\n",
      "INFO:root:copying mask_rcnn.egg-info\\dependency_links.txt -> build\\bdist.win-amd64\\egg\\EGG-INFO\n",
      "INFO:root:copying mask_rcnn.egg-info\\top_level.txt -> build\\bdist.win-amd64\\egg\\EGG-INFO\n",
      "WARNING:root:zip_safe flag not set; analyzing archive contents...\n",
      "INFO:root:creating dist\n",
      "INFO:root:creating 'dist\\mask_rcnn-2.1-py3.10.egg' and adding 'build\\bdist.win-amd64\\egg' to it\n",
      "INFO:root:removing 'build\\bdist.win-amd64\\egg' (and everything under it)\n",
      "INFO:root:Processing mask_rcnn-2.1-py3.10.egg\n",
      "INFO:root:Removing c:\\users\\diogo-pc\\appdata\\local\\programs\\python\\python310\\lib\\site-packages\\mask_rcnn-2.1-py3.10.egg\n",
      "error: [WinError 32] O arquivo já está sendo usado por outro processo: 'c:\\\\users\\\\diogo-pc\\\\appdata\\\\local\\\\programs\\\\python\\\\python310\\\\lib\\\\site-packages\\\\mask_rcnn-2.1-py3.10.egg'\n"
     ]
    }
   ],
   "source": [
    "#!python setup.py install"
   ]
  },
  {
   "cell_type": "markdown",
   "metadata": {},
   "source": [
    "Retornando para o diretório raiz do projeto"
   ]
  },
  {
   "cell_type": "code",
   "execution_count": 7,
   "metadata": {},
   "outputs": [
    {
     "name": "stdout",
     "output_type": "stream",
     "text": [
      "c:\\Users\\DIOGO-PC\\Desktop\\Estudos\\Computer_Vision_Learn\\Segmentação_de_Imagens\\Segmentação_de_Instâncias\n"
     ]
    }
   ],
   "source": [
    "#%cd .."
   ]
  },
  {
   "cell_type": "markdown",
   "metadata": {},
   "source": [
    "### Importação das bibliotecas"
   ]
  },
  {
   "cell_type": "code",
   "execution_count": 8,
   "metadata": {},
   "outputs": [],
   "source": [
    "import os\n",
    "import sys\n",
    "import random\n",
    "import math\n",
    "import cv2\n",
    "import numpy as np\n",
    "import skimage.io\n",
    "import matplotlib.pyplot as plt\n",
    "import keras"
   ]
  },
  {
   "cell_type": "code",
   "execution_count": 9,
   "metadata": {},
   "outputs": [
    {
     "data": {
      "text/plain": [
       "'c:\\\\Users\\\\DIOGO-PC\\\\Desktop\\\\Estudos\\\\Computer_Vision_Learn\\\\Segmentação_de_Imagens\\\\Segmentação_de_Instâncias\\\\Mask_RCNN-TF2'"
      ]
     },
     "execution_count": 9,
     "metadata": {},
     "output_type": "execute_result"
    }
   ],
   "source": [
    "# Armazenar o diretório raiz da onde se encontra o repositório\n",
    "ROOT_DIR = os.path.abspath('./Mask_RCNN-TF2') # Concatenando o diretório atual com o Mask RCNN\n",
    "ROOT_DIR"
   ]
  },
  {
   "cell_type": "code",
   "execution_count": 10,
   "metadata": {},
   "outputs": [
    {
     "data": {
      "text/plain": [
       "['c:\\\\Users\\\\DIOGO-PC\\\\AppData\\\\Local\\\\Programs\\\\Python\\\\Python310\\\\python310.zip',\n",
       " 'c:\\\\Users\\\\DIOGO-PC\\\\AppData\\\\Local\\\\Programs\\\\Python\\\\Python310\\\\DLLs',\n",
       " 'c:\\\\Users\\\\DIOGO-PC\\\\AppData\\\\Local\\\\Programs\\\\Python\\\\Python310\\\\lib',\n",
       " 'c:\\\\Users\\\\DIOGO-PC\\\\AppData\\\\Local\\\\Programs\\\\Python\\\\Python310',\n",
       " '',\n",
       " 'c:\\\\Users\\\\DIOGO-PC\\\\AppData\\\\Local\\\\Programs\\\\Python\\\\Python310\\\\lib\\\\site-packages',\n",
       " 'c:\\\\Users\\\\DIOGO-PC\\\\AppData\\\\Local\\\\Programs\\\\Python\\\\Python310\\\\lib\\\\site-packages\\\\mask_rcnn-2.1-py3.10.egg',\n",
       " 'c:\\\\Users\\\\DIOGO-PC\\\\AppData\\\\Local\\\\Programs\\\\Python\\\\Python310\\\\lib\\\\site-packages\\\\win32',\n",
       " 'c:\\\\Users\\\\DIOGO-PC\\\\AppData\\\\Local\\\\Programs\\\\Python\\\\Python310\\\\lib\\\\site-packages\\\\win32\\\\lib',\n",
       " 'c:\\\\Users\\\\DIOGO-PC\\\\AppData\\\\Local\\\\Programs\\\\Python\\\\Python310\\\\lib\\\\site-packages\\\\Pythonwin',\n",
       " 'c:\\\\Users\\\\DIOGO-PC\\\\AppData\\\\Local\\\\Programs\\\\Python\\\\Python310\\\\lib\\\\site-packages\\\\setuptools\\\\_vendor',\n",
       " 'c:\\\\Users\\\\DIOGO-PC\\\\Desktop\\\\Estudos\\\\Computer_Vision_Learn\\\\Segmentação_de_Imagens\\\\Segmentação_de_Instâncias\\\\Mask_RCNN-TF2']"
      ]
     },
     "execution_count": 10,
     "metadata": {},
     "output_type": "execute_result"
    }
   ],
   "source": [
    "path_exists = False\n",
    "\n",
    "for i in sys.path:\n",
    "    if i == ROOT_DIR:\n",
    "        path_exists = True\n",
    "        break\n",
    "\n",
    "# Adicionando o caminho para o repositório do Mask R-CNN caso o path não exista\n",
    "if not path_exists:\n",
    "    sys.path.append(ROOT_DIR)\n",
    "\n",
    "sys.path"
   ]
  },
  {
   "cell_type": "markdown",
   "metadata": {},
   "source": [
    "Como adicionamos o caminho do repositório no path, conseguimos realizar a importação de alguns arquivos que estão dentro do repositório e que iremos utilizar."
   ]
  },
  {
   "cell_type": "code",
   "execution_count": 11,
   "metadata": {},
   "outputs": [
    {
     "name": "stdout",
     "output_type": "stream",
     "text": [
      "WARNING:tensorflow:From c:\\Users\\DIOGO-PC\\AppData\\Local\\Programs\\Python\\Python310\\lib\\site-packages\\mask_rcnn-2.1-py3.10.egg\\mrcnn\\model.py:31: The name tf.disable_eager_execution is deprecated. Please use tf.compat.v1.disable_eager_execution instead.\n",
      "\n"
     ]
    }
   ],
   "source": [
    "from mrcnn import utils\n",
    "from mrcnn import visualize\n",
    "import mrcnn.model as modellib"
   ]
  },
  {
   "cell_type": "markdown",
   "metadata": {},
   "source": [
    "Iremos adicionar outro path, no caso, dos exemplos (samples)"
   ]
  },
  {
   "cell_type": "code",
   "execution_count": 12,
   "metadata": {},
   "outputs": [
    {
     "data": {
      "text/plain": [
       "['c:\\\\Users\\\\DIOGO-PC\\\\AppData\\\\Local\\\\Programs\\\\Python\\\\Python310\\\\python310.zip',\n",
       " 'c:\\\\Users\\\\DIOGO-PC\\\\AppData\\\\Local\\\\Programs\\\\Python\\\\Python310\\\\DLLs',\n",
       " 'c:\\\\Users\\\\DIOGO-PC\\\\AppData\\\\Local\\\\Programs\\\\Python\\\\Python310\\\\lib',\n",
       " 'c:\\\\Users\\\\DIOGO-PC\\\\AppData\\\\Local\\\\Programs\\\\Python\\\\Python310',\n",
       " '',\n",
       " 'c:\\\\Users\\\\DIOGO-PC\\\\AppData\\\\Local\\\\Programs\\\\Python\\\\Python310\\\\lib\\\\site-packages',\n",
       " 'c:\\\\Users\\\\DIOGO-PC\\\\AppData\\\\Local\\\\Programs\\\\Python\\\\Python310\\\\lib\\\\site-packages\\\\mask_rcnn-2.1-py3.10.egg',\n",
       " 'c:\\\\Users\\\\DIOGO-PC\\\\AppData\\\\Local\\\\Programs\\\\Python\\\\Python310\\\\lib\\\\site-packages\\\\win32',\n",
       " 'c:\\\\Users\\\\DIOGO-PC\\\\AppData\\\\Local\\\\Programs\\\\Python\\\\Python310\\\\lib\\\\site-packages\\\\win32\\\\lib',\n",
       " 'c:\\\\Users\\\\DIOGO-PC\\\\AppData\\\\Local\\\\Programs\\\\Python\\\\Python310\\\\lib\\\\site-packages\\\\Pythonwin',\n",
       " 'c:\\\\Users\\\\DIOGO-PC\\\\AppData\\\\Local\\\\Programs\\\\Python\\\\Python310\\\\lib\\\\site-packages\\\\setuptools\\\\_vendor',\n",
       " 'c:\\\\Users\\\\DIOGO-PC\\\\Desktop\\\\Estudos\\\\Computer_Vision_Learn\\\\Segmentação_de_Imagens\\\\Segmentação_de_Instâncias\\\\Mask_RCNN-TF2',\n",
       " 'c:\\\\Users\\\\DIOGO-PC\\\\Desktop\\\\Estudos\\\\Computer_Vision_Learn\\\\Segmentação_de_Imagens',\n",
       " 'c:\\\\Users\\\\DIOGO-PC\\\\Desktop\\\\Estudos\\\\Computer_Vision_Learn\\\\Segmentação_de_Imagens\\\\Segmentação_de_Instâncias\\\\Mask_RCNN-TF2\\\\samples\\\\coco']"
      ]
     },
     "execution_count": 12,
     "metadata": {},
     "output_type": "execute_result"
    }
   ],
   "source": [
    "ROOT_DIR_COCO_SAMPLES = os.path.abspath('./Mask_RCNN-TF2/samples/coco/')\n",
    "\n",
    "path_coco_samples_exists = False\n",
    "\n",
    "for i in sys.path:\n",
    "    if i == ROOT_DIR_COCO_SAMPLES:\n",
    "        path_coco_samples_exists = True\n",
    "        break\n",
    "\n",
    "\n",
    "# Adicionando o caminho para os exemplos caso não exista\n",
    "if not path_coco_samples_exists:\n",
    "    sys.path.append(ROOT_DIR_COCO_SAMPLES)\n",
    "\n",
    "sys.path"
   ]
  },
  {
   "cell_type": "markdown",
   "metadata": {},
   "source": [
    "Instalação do pycocotools para importação do coco."
   ]
  },
  {
   "cell_type": "code",
   "execution_count": 13,
   "metadata": {},
   "outputs": [],
   "source": [
    "#!pip install pycocotools"
   ]
  },
  {
   "cell_type": "code",
   "execution_count": 14,
   "metadata": {},
   "outputs": [],
   "source": [
    "# Caso o path for adicionado corretamente, não dará erros na importação\n",
    "import coco"
   ]
  },
  {
   "cell_type": "code",
   "execution_count": 15,
   "metadata": {},
   "outputs": [
    {
     "name": "stdout",
     "output_type": "stream",
     "text": [
      "c:\\Users\\DIOGO-PC\\Desktop\\Estudos\\Computer_Vision_Learn\\Segmentação_de_Imagens\\Segmentação_de_Instâncias\\Mask_RCNN-TF2\\logs\n",
      "c:\\Users\\DIOGO-PC\\Desktop\\Estudos\\Computer_Vision_Learn\\Segmentação_de_Imagens\\Segmentação_de_Instâncias\\Mask_RCNN-TF2\\images\n"
     ]
    }
   ],
   "source": [
    "MODEL_DIR = os.path.join(ROOT_DIR, 'logs') # Este diretório só existirá após a rede neural estiver em funcionamento\n",
    "IMAGE_DIR = os.path.join(ROOT_DIR, 'images') # Contém várias imagens de teste para utilizarmos\n",
    "\n",
    "print(MODEL_DIR)\n",
    "print(IMAGE_DIR)"
   ]
  }
 ],
 "metadata": {
  "kernelspec": {
   "display_name": "Python 3",
   "language": "python",
   "name": "python3"
  },
  "language_info": {
   "codemirror_mode": {
    "name": "ipython",
    "version": 3
   },
   "file_extension": ".py",
   "mimetype": "text/x-python",
   "name": "python",
   "nbconvert_exporter": "python",
   "pygments_lexer": "ipython3",
   "version": "3.10.10"
  }
 },
 "nbformat": 4,
 "nbformat_minor": 2
}
