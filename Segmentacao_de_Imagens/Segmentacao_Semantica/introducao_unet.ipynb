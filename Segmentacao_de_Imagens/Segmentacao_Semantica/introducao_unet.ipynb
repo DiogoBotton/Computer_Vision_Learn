{
 "cells": [
  {
   "cell_type": "markdown",
   "metadata": {},
   "source": [
    "### Segmentação Semântica com U-NET\n",
    "\n",
    "A segmentação semântica e a de instâncias tem sido usada amplamente no setor de Saúde durante a pandemia de COVID-19 para ajudar os médicos a distinguir, entre as imagens de raios-X de vários pulmões, quais exibem pneumonia normal e quais exibem infecção por Coronavirus."
   ]
  },
  {
   "cell_type": "markdown",
   "metadata": {},
   "source": [
    "### Importação das bibliotecas"
   ]
  },
  {
   "cell_type": "code",
   "execution_count": 1,
   "metadata": {},
   "outputs": [
    {
     "data": {
      "text/plain": [
       "'2.18.0'"
      ]
     },
     "execution_count": 1,
     "metadata": {},
     "output_type": "execute_result"
    }
   ],
   "source": [
    "import os\n",
    "import numpy as np\n",
    "import cv2\n",
    "from tqdm import tqdm # Mostrar barra de progresso\n",
    "import matplotlib.pyplot as plt\n",
    "import tensorflow\n",
    "import keras\n",
    "import random\n",
    "tensorflow.__version__"
   ]
  },
  {
   "cell_type": "code",
   "execution_count": 2,
   "metadata": {},
   "outputs": [],
   "source": [
    "# Utilizado para ocultar alguns avisos do tensorflow nas células do notebook na execução que pode prejudicar um pouco a visualização\n",
    "os.environ['TF_CPP_MIN_LOG_LEVEL'] = '2'"
   ]
  },
  {
   "cell_type": "markdown",
   "metadata": {},
   "source": [
    "### Dataset\n",
    "\n",
    "**Data Science Bowl de 2018** - https://www.kaggle.com/competitions/data-science-bowl-2018\n",
    "\n",
    "Antes (com os exemplos de segmentação de instâncias) trabalhamos com máscaras em um arquivo json que armazena as posições x e y dos objetos. Com este dataset trabalharemos com uma forma alternativa para armazenar os segmentos, no caso, as máscaras também serão imagens."
   ]
  },
  {
   "cell_type": "code",
   "execution_count": 3,
   "metadata": {},
   "outputs": [],
   "source": [
    "os.environ['KAGGLE_USERNAME'] = 'wolfros'\n",
    "os.environ['KAGGLE_KEY'] = 'c1df133274141a6dea216267d44c22db'"
   ]
  },
  {
   "cell_type": "markdown",
   "metadata": {},
   "source": [
    "Antes de fazer o download, é necessário baixar o kaggle, criar uma chave de api no kaggle e aceitar os termos da competição."
   ]
  },
  {
   "cell_type": "code",
   "execution_count": 4,
   "metadata": {},
   "outputs": [],
   "source": [
    "#!pip install kaggle"
   ]
  },
  {
   "cell_type": "markdown",
   "metadata": {},
   "source": [
    "Baixando o dataset."
   ]
  },
  {
   "cell_type": "code",
   "execution_count": 5,
   "metadata": {},
   "outputs": [],
   "source": [
    "#!kaggle competitions download -c data-science-bowl-2018"
   ]
  },
  {
   "cell_type": "markdown",
   "metadata": {},
   "source": [
    "Caso não exista pasta 'data', cria uma e descompacta os dados dentro desta pasta."
   ]
  },
  {
   "cell_type": "code",
   "execution_count": 6,
   "metadata": {},
   "outputs": [],
   "source": [
    "#!mkdir data && tar -xf data-science-bowl-2018.zip -C data"
   ]
  },
  {
   "cell_type": "markdown",
   "metadata": {},
   "source": [
    "Verifica em qual diretório está."
   ]
  },
  {
   "cell_type": "code",
   "execution_count": 7,
   "metadata": {},
   "outputs": [],
   "source": [
    "#%pwd"
   ]
  },
  {
   "cell_type": "markdown",
   "metadata": {},
   "source": [
    "Entra na pasta data, cria uma nova pasta 'train' caso não exista e descompata nela os dados de treino."
   ]
  },
  {
   "cell_type": "code",
   "execution_count": 8,
   "metadata": {},
   "outputs": [],
   "source": [
    "#%cd data\n",
    "#!mkdir train && tar -xf stage1_train.zip -C train"
   ]
  },
  {
   "cell_type": "markdown",
   "metadata": {},
   "source": [
    "Cria uma pasta 'test' caso não exista e descompacta nela os dados de teste."
   ]
  },
  {
   "cell_type": "code",
   "execution_count": 9,
   "metadata": {},
   "outputs": [],
   "source": [
    "#!mkdir test && tar -xf stage1_test.zip -C test"
   ]
  },
  {
   "cell_type": "markdown",
   "metadata": {},
   "source": [
    "Volta para o diretório raiz."
   ]
  },
  {
   "cell_type": "code",
   "execution_count": 10,
   "metadata": {},
   "outputs": [],
   "source": [
    "#%cd .."
   ]
  },
  {
   "cell_type": "markdown",
   "metadata": {},
   "source": [
    "### Carregamento das imagens"
   ]
  },
  {
   "cell_type": "code",
   "execution_count": 18,
   "metadata": {},
   "outputs": [],
   "source": [
    "IMG_WIDTH = 256\n",
    "IMG_HEIGHT = 256\n",
    "IMG_CHANNELS = 3\n",
    "\n",
    "SEED = 42 # Definindo seed para reprodutibilidade de resultados\n",
    "np.random.seed = SEED\n",
    "random.seed = SEED\n",
    "\n",
    "PATH_TRAIN = 'data/train/'\n",
    "PATH_TEST = 'data/test/'"
   ]
  },
  {
   "cell_type": "markdown",
   "metadata": {},
   "source": [
    "Os nomes das pastas em cada pasta (train e test) são os mesmos nomes dos arquivos."
   ]
  },
  {
   "cell_type": "code",
   "execution_count": 23,
   "metadata": {},
   "outputs": [
    {
     "name": "stdout",
     "output_type": "stream",
     "text": [
      "00071198d059ba7f5914a526d124d28e6d010c92466da21d4a04cd5413362552\n",
      "003cee89357d9fe13516167fd67b609a164651b21934585648c740d2c3d86dc1\n",
      "00ae65c1c6631ae6f2be1a449902976e6eb8483bf6b0740d00530220832c6d3e\n",
      "0121d6759c5adb290c8e828fc882f37dfaf3663ec885c663859948c154a443ed\n",
      "01d44a26f6680c42ba94c9bc6339228579a95d0e2695b149b7cc0c9592b21baf\n"
     ]
    }
   ],
   "source": [
    "# Retorna o próximo valor de uma lista\n",
    "# 1° elemento retorna o path\n",
    "# 2° elemento retorna o array de itens (no caso nome das pastas que contem as imagens)\n",
    "train_ids = next(os.walk(PATH_TRAIN))[1] # Estamos pegando o 2° elemento\n",
    "\n",
    "# Visualizando os 5 primeiros ids das imagens de treino\n",
    "for id in range(0,5):\n",
    "    print(train_ids[id])"
   ]
  },
  {
   "cell_type": "code",
   "execution_count": 24,
   "metadata": {},
   "outputs": [],
   "source": [
    "# Fazemos a mesma coisa para os dados de teste\n",
    "test_ids = next(os.walk(PATH_TEST))[1]"
   ]
  },
  {
   "cell_type": "code",
   "execution_count": 26,
   "metadata": {},
   "outputs": [
    {
     "name": "stdout",
     "output_type": "stream",
     "text": [
      "670 para treinamento \n",
      " 65 para teste.\n"
     ]
    }
   ],
   "source": [
    "print(f'{len(train_ids)} para treinamento \\n {len(test_ids)} para teste.')"
   ]
  },
  {
   "cell_type": "markdown",
   "metadata": {},
   "source": [
    "A máscara da imagem é composta somente pelo pixel 0 (zero) que representa o fundo e pelo pixel 1 (no caso, será 255 após ser multiplicado por 255) que representa onde está o objeto, na cor branca."
   ]
  },
  {
   "cell_type": "code",
   "execution_count": 38,
   "metadata": {},
   "outputs": [
    {
     "data": {
      "text/plain": [
       "((670, 256, 256, 3), (670, 256, 256, 1))"
      ]
     },
     "execution_count": 38,
     "metadata": {},
     "output_type": "execute_result"
    }
   ],
   "source": [
    "# Criando um array composto de zeros onde:\n",
    "#                       qtd de imagens   altura     largura    canais (rgb)\n",
    "dataset_img = np.zeros((len(train_ids), IMG_HEIGHT, IMG_WIDTH, IMG_CHANNELS), dtype=np.uint8)\n",
    "\n",
    "# Fazemos a mesma coisa para as máscaras, porém com apenas 1 canal e o tipo de dados booleano (0 e 1)\n",
    "dataset_mask = np.zeros((len(train_ids), IMG_HEIGHT, IMG_WIDTH, 1), dtype=np.bool)\n",
    "\n",
    "dataset_img.shape, dataset_mask.shape # A única diferença é o número de canais"
   ]
  }
 ],
 "metadata": {
  "kernelspec": {
   "display_name": "Python 3",
   "language": "python",
   "name": "python3"
  },
  "language_info": {
   "codemirror_mode": {
    "name": "ipython",
    "version": 3
   },
   "file_extension": ".py",
   "mimetype": "text/x-python",
   "name": "python",
   "nbconvert_exporter": "python",
   "pygments_lexer": "ipython3",
   "version": "3.10.10"
  }
 },
 "nbformat": 4,
 "nbformat_minor": 2
}
