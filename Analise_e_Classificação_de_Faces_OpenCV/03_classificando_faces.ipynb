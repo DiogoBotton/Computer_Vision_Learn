{
 "cells": [
  {
   "cell_type": "markdown",
   "metadata": {},
   "source": [
    "Agora além de detectarmos faces, iremos também classificar os rostos de pessoas.\n",
    "\n",
    "Iremos utilizar um Dataset da George Tech, onde temos 15 imagens por pessoa.\n",
    "\n",
    "[Download Dataset](https://drive.google.com/file/d/1BTY76SQslUDvZ1eslC41Jre3LHkGGsZ_/view?usp=sharing)"
   ]
  },
  {
   "cell_type": "code",
   "execution_count": null,
   "metadata": {},
   "outputs": [],
   "source": [
    "# TODO Identificar os rostos de cada imagem, cortar e salvar em memória (em um array) para o pré processamento."
   ]
  }
 ],
 "metadata": {
  "kernelspec": {
   "display_name": "Python 3",
   "language": "python",
   "name": "python3"
  },
  "language_info": {
   "codemirror_mode": {
    "name": "ipython",
    "version": 3
   },
   "file_extension": ".py",
   "mimetype": "text/x-python",
   "name": "python",
   "nbconvert_exporter": "python",
   "pygments_lexer": "ipython3",
   "version": "3.10.10"
  }
 },
 "nbformat": 4,
 "nbformat_minor": 2
}
